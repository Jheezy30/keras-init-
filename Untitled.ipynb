{
 "cells": [
  {
   "cell_type": "code",
   "execution_count": 1,
   "id": "807b606d-fea0-4c8b-bf92-e5c676693bd4",
   "metadata": {},
   "outputs": [
    {
     "name": "stdout",
     "output_type": "stream",
     "text": [
      "WARNING:tensorflow:Please fix your imports. Module tensorflow.python.training.saving.functional_saver has been moved to tensorflow.python.checkpoint.functional_saver. The old module will be deleted in version 2.11.\n",
      "WARNING:tensorflow:Please fix your imports. Module tensorflow.python.training.saving.checkpoint_options has been moved to tensorflow.python.checkpoint.checkpoint_options. The old module will be deleted in version 2.11.\n"
     ]
    }
   ],
   "source": [
    "import os\n",
    "os.environ['TF_CPP_MIN_LOG_LEVEL'] = \"2\"\n",
    "import tensorflow as tf"
   ]
  },
  {
   "cell_type": "code",
   "execution_count": 2,
   "id": "91c145f4-b994-45bb-8e0d-11b53900ea27",
   "metadata": {},
   "outputs": [],
   "source": [
    "from tensorflow import keras\n",
    "from keras.layers import Dense, Input\n",
    "from keras.models import Sequential\n",
    "from keras.optimizers import SGD\n",
    "from keras.datasets import mnist\n",
    "import matplotlib.pyplot as plt\n",
    "from keras.utils import to_categorical\n",
    "import numpy as np"
   ]
  },
  {
   "cell_type": "code",
   "execution_count": 3,
   "id": "c5e96a8e-822d-4fdb-a6a6-f25c0b5786e7",
   "metadata": {},
   "outputs": [],
   "source": [
    "(Xtrain, ytrain), (Xtest, ytest) = mnist.load_data()"
   ]
  },
  {
   "cell_type": "code",
   "execution_count": 4,
   "id": "11abaf50-8466-4bd3-b8da-c3ae937b13c5",
   "metadata": {},
   "outputs": [
    {
     "data": {
      "text/plain": [
       "(60000, 28, 28)"
      ]
     },
     "execution_count": 4,
     "metadata": {},
     "output_type": "execute_result"
    }
   ],
   "source": [
    "Xtrain.shape"
   ]
  },
  {
   "cell_type": "code",
   "execution_count": 5,
   "id": "4b17ff20-d906-47a7-ab26-851405143ddb",
   "metadata": {},
   "outputs": [
    {
     "name": "stdout",
     "output_type": "stream",
     "text": [
      "Model: \"classifer\"\n",
      "_________________________________________________________________\n",
      " Layer (type)                Output Shape              Param #   \n",
      "=================================================================\n",
      " first_layer (Dense)         (None, 512)               401920    \n",
      "                                                                 \n",
      " second_layer (Dense)        (None, 512)               262656    \n",
      "                                                                 \n",
      " output_layer (Dense)        (None, 10)                5130      \n",
      "                                                                 \n",
      "=================================================================\n",
      "Total params: 669,706\n",
      "Trainable params: 669,706\n",
      "Non-trainable params: 0\n",
      "_________________________________________________________________\n"
     ]
    }
   ],
   "source": [
    "model = Sequential(name = 'classifer')\n",
    "model.add(Input(shape=(28*28,)))\n",
    "model.add(Dense(512, activation = 'relu', name = 'first_layer'))\n",
    "model.add(Dense(512, activation = 'relu', name = 'second_layer'))\n",
    "model.add(Dense(10, activation = 'softmax', name = 'output_layer'))\n",
    "model.compile(optimizer='rmsprop', loss= 'categorical_crossentropy', metrics=['accuracy'])\n",
    "model.summary()"
   ]
  },
  {
   "cell_type": "code",
   "execution_count": 6,
   "id": "98297f57-30bf-4f8f-a5b1-cf7f9f8cb75f",
   "metadata": {},
   "outputs": [],
   "source": [
    "Xtrain = Xtrain.astype('float32')\n",
    "Xtrain = Xtrain / 255\n",
    "\n",
    "Xtest = Xtest.astype('float32')\n",
    "Xtest = Xtest / 255\n",
    "\n",
    "Xtrain = Xtrain.reshape((60000, 28*28))\n",
    "Xtest = Xtest.reshape((10000, 28*28))\n",
    "\n",
    "scaled_ytrain = to_categorical(ytrain)\n",
    "scaled_ytest = to_categorical(ytest)"
   ]
  },
  {
   "cell_type": "code",
   "execution_count": 7,
   "id": "259537b4-2943-4d37-a41a-af3657768072",
   "metadata": {},
   "outputs": [
    {
     "data": {
      "text/plain": [
       "(60000, 10)"
      ]
     },
     "execution_count": 7,
     "metadata": {},
     "output_type": "execute_result"
    }
   ],
   "source": [
    "scaled_ytrain.shape"
   ]
  },
  {
   "cell_type": "code",
   "execution_count": 8,
   "id": "500b7fc0-1b24-4c90-9bb0-d0ca21fcab8f",
   "metadata": {},
   "outputs": [
    {
     "data": {
      "text/plain": [
       "(60000,)"
      ]
     },
     "execution_count": 8,
     "metadata": {},
     "output_type": "execute_result"
    }
   ],
   "source": [
    "ytrain.shape"
   ]
  },
  {
   "cell_type": "code",
   "execution_count": 9,
   "id": "df744732-6506-40ad-8217-1231d67413ef",
   "metadata": {},
   "outputs": [
    {
     "data": {
      "text/plain": [
       "[PhysicalDevice(name='/physical_device:GPU:0', device_type='GPU')]"
      ]
     },
     "execution_count": 9,
     "metadata": {},
     "output_type": "execute_result"
    }
   ],
   "source": [
    "import tensorflow as tf\n",
    "tf.config.list_physical_devices('GPU')"
   ]
  },
  {
   "cell_type": "code",
   "execution_count": 10,
   "id": "dabbdc02-15e2-4e6c-8ff7-aff8f1482fd5",
   "metadata": {},
   "outputs": [],
   "source": [
    "a = np.array(np.arange(0, 12))"
   ]
  },
  {
   "cell_type": "code",
   "execution_count": 11,
   "id": "e251b87e-b913-4390-9bcb-8c56b6f77e30",
   "metadata": {},
   "outputs": [
    {
     "data": {
      "text/plain": [
       "array([ 0,  1,  2,  3,  4,  5,  6,  7,  8,  9, 10, 11])"
      ]
     },
     "execution_count": 11,
     "metadata": {},
     "output_type": "execute_result"
    }
   ],
   "source": [
    "a"
   ]
  },
  {
   "cell_type": "code",
   "execution_count": 12,
   "id": "965cb8e0-3553-453c-b65d-57b03bdeccb6",
   "metadata": {},
   "outputs": [],
   "source": [
    "a = a.reshape((3, 4))"
   ]
  },
  {
   "cell_type": "code",
   "execution_count": 13,
   "id": "2c05d630-ec97-4f59-b9e5-0a15c9534eee",
   "metadata": {},
   "outputs": [
    {
     "data": {
      "text/plain": [
       "2"
      ]
     },
     "execution_count": 13,
     "metadata": {},
     "output_type": "execute_result"
    }
   ],
   "source": [
    "a.ndim"
   ]
  },
  {
   "cell_type": "code",
   "execution_count": 14,
   "id": "764ac212-7026-4020-9c94-6fbdeccd7fc7",
   "metadata": {},
   "outputs": [],
   "source": [
    "data = np.random.randint(0, 16, (10, 4))"
   ]
  },
  {
   "cell_type": "code",
   "execution_count": 15,
   "id": "7f712905-4887-44c7-b45c-6b86c1a15f98",
   "metadata": {},
   "outputs": [
    {
     "data": {
      "text/plain": [
       "array([[ 0,  4, 14,  7],\n",
       "       [ 1,  1,  8, 11],\n",
       "       [11,  1,  7,  5],\n",
       "       [13,  1, 13,  7],\n",
       "       [ 4,  3,  4,  5],\n",
       "       [10, 14, 14, 13],\n",
       "       [ 5, 13,  6,  1],\n",
       "       [ 0,  2,  3,  2],\n",
       "       [10,  5, 15, 10],\n",
       "       [ 5, 11, 11,  0]])"
      ]
     },
     "execution_count": 15,
     "metadata": {},
     "output_type": "execute_result"
    }
   ],
   "source": [
    "data"
   ]
  },
  {
   "cell_type": "code",
   "execution_count": 16,
   "id": "97701147-f739-4043-8101-24c5bdc10f37",
   "metadata": {},
   "outputs": [
    {
     "data": {
      "text/plain": [
       "array([[ 0,  4, 14,  7],\n",
       "       [ 1,  1,  8, 11],\n",
       "       [11,  1,  7,  5],\n",
       "       [13,  1, 13,  7],\n",
       "       [ 4,  3,  4,  5],\n",
       "       [10, 14, 14, 13]])"
      ]
     },
     "execution_count": 16,
     "metadata": {},
     "output_type": "execute_result"
    }
   ],
   "source": [
    "train = data[:6]\n",
    "train"
   ]
  },
  {
   "cell_type": "code",
   "execution_count": 17,
   "id": "07506049-113b-4ff9-a998-60e15a2e6e32",
   "metadata": {},
   "outputs": [
    {
     "data": {
      "text/plain": [
       "array([[ 5, 13,  6,  1],\n",
       "       [ 0,  2,  3,  2],\n",
       "       [10,  5, 15, 10],\n",
       "       [ 5, 11, 11,  0]])"
      ]
     },
     "execution_count": 17,
     "metadata": {},
     "output_type": "execute_result"
    }
   ],
   "source": [
    "test = data[6:]\n",
    "test"
   ]
  },
  {
   "cell_type": "code",
   "execution_count": 18,
   "id": "5807209c-659f-410b-ab75-81f467d91f6e",
   "metadata": {},
   "outputs": [
    {
     "data": {
      "text/plain": [
       "(array([[ 0,  4, 14],\n",
       "        [ 1,  1,  8],\n",
       "        [11,  1,  7],\n",
       "        [13,  1, 13],\n",
       "        [ 4,  3,  4],\n",
       "        [10, 14, 14]]),\n",
       " array([ 7, 11,  5,  7,  5, 13]))"
      ]
     },
     "execution_count": 18,
     "metadata": {},
     "output_type": "execute_result"
    }
   ],
   "source": [
    "trainX, trainY = train[:, :3], train[:,-1]\n",
    "trainX, trainY"
   ]
  },
  {
   "cell_type": "code",
   "execution_count": 19,
   "id": "3a14677f-2e79-4e62-b4a4-8ba9c9a10c7e",
   "metadata": {},
   "outputs": [
    {
     "data": {
      "text/plain": [
       "(5000, 784)"
      ]
     },
     "execution_count": 19,
     "metadata": {},
     "output_type": "execute_result"
    }
   ],
   "source": [
    "new_testX, valX = Xtest[:5000], Xtest[5000:]\n",
    "valX.shape"
   ]
  },
  {
   "cell_type": "code",
   "execution_count": 20,
   "id": "00740811-650d-4dee-b17d-07dc3f5b07d9",
   "metadata": {},
   "outputs": [],
   "source": [
    "new_testY, valY = ytest[:5000], ytest[5000:]\n",
    "n_new_testY = to_categorical(new_testY)\n",
    "n_valY = to_categorical(valY)"
   ]
  },
  {
   "cell_type": "code",
   "execution_count": 21,
   "id": "7d50744e-7273-4cc1-bc07-cf23b4391684",
   "metadata": {},
   "outputs": [
    {
     "data": {
      "text/plain": [
       "(5000, 10)"
      ]
     },
     "execution_count": 21,
     "metadata": {},
     "output_type": "execute_result"
    }
   ],
   "source": [
    "n_valY.shape "
   ]
  },
  {
   "cell_type": "code",
   "execution_count": 22,
   "id": "a03beb60-ba2e-4064-8f9c-b5b0777146d1",
   "metadata": {},
   "outputs": [
    {
     "name": "stdout",
     "output_type": "stream",
     "text": [
      "Epoch 1/30\n",
      "1875/1875 [==============================] - 21s 11ms/step - loss: 0.1909 - accuracy: 0.9432 - val_loss: 0.0967 - val_accuracy: 0.9744\n",
      "Epoch 2/30\n",
      "1875/1875 [==============================] - 20s 11ms/step - loss: 0.1023 - accuracy: 0.9736 - val_loss: 0.0719 - val_accuracy: 0.9844\n",
      "Epoch 3/30\n",
      "1875/1875 [==============================] - 20s 11ms/step - loss: 0.0819 - accuracy: 0.9802 - val_loss: 0.0933 - val_accuracy: 0.9806\n",
      "Epoch 4/30\n",
      "1875/1875 [==============================] - 20s 11ms/step - loss: 0.0703 - accuracy: 0.9836 - val_loss: 0.0826 - val_accuracy: 0.9854\n",
      "Epoch 5/30\n",
      "1875/1875 [==============================] - 20s 11ms/step - loss: 0.0652 - accuracy: 0.9854 - val_loss: 0.0795 - val_accuracy: 0.9848\n",
      "Epoch 6/30\n",
      "1875/1875 [==============================] - 20s 11ms/step - loss: 0.0562 - accuracy: 0.9880 - val_loss: 0.0857 - val_accuracy: 0.9884\n",
      "Epoch 7/30\n",
      "1875/1875 [==============================] - 20s 11ms/step - loss: 0.0552 - accuracy: 0.9895 - val_loss: 0.1057 - val_accuracy: 0.9862\n",
      "Epoch 8/30\n",
      "1875/1875 [==============================] - 20s 11ms/step - loss: 0.0489 - accuracy: 0.9905 - val_loss: 0.1136 - val_accuracy: 0.9886\n",
      "Epoch 9/30\n",
      "1875/1875 [==============================] - 20s 11ms/step - loss: 0.0409 - accuracy: 0.9924 - val_loss: 0.1174 - val_accuracy: 0.9896\n",
      "Epoch 10/30\n",
      "1875/1875 [==============================] - 20s 11ms/step - loss: 0.0435 - accuracy: 0.9926 - val_loss: 0.1522 - val_accuracy: 0.9830\n",
      "Epoch 11/30\n",
      "1875/1875 [==============================] - 21s 11ms/step - loss: 0.0362 - accuracy: 0.9934 - val_loss: 0.1444 - val_accuracy: 0.9862\n",
      "Epoch 12/30\n",
      "1875/1875 [==============================] - 20s 11ms/step - loss: 0.0314 - accuracy: 0.9938 - val_loss: 0.1370 - val_accuracy: 0.9868\n",
      "Epoch 13/30\n",
      "1875/1875 [==============================] - 21s 11ms/step - loss: 0.0338 - accuracy: 0.9945 - val_loss: 0.1173 - val_accuracy: 0.9888\n",
      "Epoch 14/30\n",
      "1875/1875 [==============================] - 21s 11ms/step - loss: 0.0302 - accuracy: 0.9954 - val_loss: 0.1657 - val_accuracy: 0.9874\n",
      "Epoch 15/30\n",
      "1875/1875 [==============================] - 21s 11ms/step - loss: 0.0302 - accuracy: 0.9955 - val_loss: 0.1437 - val_accuracy: 0.9896\n",
      "Epoch 16/30\n",
      "1875/1875 [==============================] - 21s 11ms/step - loss: 0.0293 - accuracy: 0.9957 - val_loss: 0.1919 - val_accuracy: 0.9844\n",
      "Epoch 17/30\n",
      "1875/1875 [==============================] - 21s 11ms/step - loss: 0.0252 - accuracy: 0.9957 - val_loss: 0.1988 - val_accuracy: 0.9870\n",
      "Epoch 18/30\n",
      "1875/1875 [==============================] - 21s 11ms/step - loss: 0.0264 - accuracy: 0.9962 - val_loss: 0.1896 - val_accuracy: 0.9868\n",
      "Epoch 19/30\n",
      "1875/1875 [==============================] - 21s 11ms/step - loss: 0.0194 - accuracy: 0.9971 - val_loss: 0.1912 - val_accuracy: 0.9868\n",
      "Epoch 20/30\n",
      "1875/1875 [==============================] - 21s 11ms/step - loss: 0.0249 - accuracy: 0.9965 - val_loss: 0.2399 - val_accuracy: 0.9882\n",
      "Epoch 21/30\n",
      "1875/1875 [==============================] - 21s 11ms/step - loss: 0.0221 - accuracy: 0.9969 - val_loss: 0.1837 - val_accuracy: 0.9892\n",
      "Epoch 22/30\n",
      "1875/1875 [==============================] - 21s 11ms/step - loss: 0.0175 - accuracy: 0.9973 - val_loss: 0.1733 - val_accuracy: 0.9890\n",
      "Epoch 23/30\n",
      "1875/1875 [==============================] - 21s 11ms/step - loss: 0.0177 - accuracy: 0.9972 - val_loss: 0.1957 - val_accuracy: 0.9890\n",
      "Epoch 24/30\n",
      "1875/1875 [==============================] - 21s 11ms/step - loss: 0.0163 - accuracy: 0.9978 - val_loss: 0.2248 - val_accuracy: 0.9872\n",
      "Epoch 25/30\n",
      "1875/1875 [==============================] - 21s 11ms/step - loss: 0.0185 - accuracy: 0.9974 - val_loss: 0.2008 - val_accuracy: 0.9886\n",
      "Epoch 26/30\n",
      "1875/1875 [==============================] - 21s 11ms/step - loss: 0.0124 - accuracy: 0.9979 - val_loss: 0.2364 - val_accuracy: 0.9888\n",
      "Epoch 27/30\n",
      "1875/1875 [==============================] - 21s 11ms/step - loss: 0.0149 - accuracy: 0.9981 - val_loss: 0.2116 - val_accuracy: 0.9898\n",
      "Epoch 28/30\n",
      "1875/1875 [==============================] - 21s 11ms/step - loss: 0.0186 - accuracy: 0.9978 - val_loss: 0.2992 - val_accuracy: 0.9876\n",
      "Epoch 29/30\n",
      "1875/1875 [==============================] - 21s 11ms/step - loss: 0.0150 - accuracy: 0.9981 - val_loss: 0.2355 - val_accuracy: 0.9894\n",
      "Epoch 30/30\n",
      "1875/1875 [==============================] - 21s 11ms/step - loss: 0.0142 - accuracy: 0.9980 - val_loss: 0.2542 - val_accuracy: 0.9874\n"
     ]
    }
   ],
   "source": [
    "history = model.fit(x = Xtrain, y = scaled_ytrain, batch_size = 32, epochs = 30, validation_data=(valX, n_valY))"
   ]
  },
  {
   "cell_type": "code",
   "execution_count": 23,
   "id": "0de781c7-529d-4a4f-a055-2dbfe9e07244",
   "metadata": {},
   "outputs": [
    {
     "data": {
      "text/plain": [
       "[0.19092808663845062,\n",
       " 0.10229931771755219,\n",
       " 0.08189258724451065,\n",
       " 0.07029417157173157,\n",
       " 0.06522925198078156,\n",
       " 0.05624580383300781,\n",
       " 0.05518300458788872,\n",
       " 0.048902399837970734,\n",
       " 0.0408577062189579,\n",
       " 0.043496958911418915,\n",
       " 0.03617776185274124,\n",
       " 0.031358059495687485,\n",
       " 0.033836133778095245,\n",
       " 0.03016572818160057,\n",
       " 0.030150525271892548,\n",
       " 0.029301365837454796,\n",
       " 0.025176044553518295,\n",
       " 0.026409266516566277,\n",
       " 0.019363505765795708,\n",
       " 0.024869021028280258,\n",
       " 0.022146308794617653,\n",
       " 0.017506413161754608,\n",
       " 0.0177469402551651,\n",
       " 0.016334151849150658,\n",
       " 0.018452651798725128,\n",
       " 0.012426475994288921,\n",
       " 0.014935984276235104,\n",
       " 0.018606489524245262,\n",
       " 0.014959918335080147,\n",
       " 0.014185283333063126]"
      ]
     },
     "execution_count": 23,
     "metadata": {},
     "output_type": "execute_result"
    }
   ],
   "source": [
    "history.history['loss']"
   ]
  },
  {
   "cell_type": "code",
   "execution_count": 24,
   "id": "34debcd6-c9af-4d87-b716-07fcb0200582",
   "metadata": {},
   "outputs": [
    {
     "data": {
      "text/plain": [
       "<matplotlib.legend.Legend at 0x21adf94eac0>"
      ]
     },
     "execution_count": 24,
     "metadata": {},
     "output_type": "execute_result"
    },
    {
     "data": {
      "image/png": "[encoded data removed]",
      "text/plain": [
       "<Figure size 640x480 with 1 Axes>"
      ]
     },
     "metadata": {},
     "output_type": "display_data"
    }
   ],
   "source": [
    "plt.plot(history.history['loss'], label='train_loss')\n",
    "plt.plot(history.history['val_loss'], label='val_loss')\n",
    "plt.legend()"
   ]
  },
  {
   "cell_type": "code",
   "execution_count": null,
   "id": "60f23ebc-9cd3-4f01-86d1-934734b8f58a",
   "metadata": {},
   "outputs": [],
   "source": [
    "plt.plot(history.history['loss'], label='train_loss')\n",
    "plt.plot(history.history['val_loss'], label='val_loss')\n",
    "plt.legend()"
   ]
  }
 ],
 "metadata": {
  "kernelspec": {
   "display_name": "Python 3",
   "language": "python",
   "name": "python3"
  },
  "language_info": {
   "codemirror_mode": {
    "name": "ipython",
    "version": 3
   },
   "file_extension": ".py",
   "mimetype": "text/x-python",
   "name": "python",
   "nbconvert_exporter": "python",
   "pygments_lexer": "ipython3",
   "version": "3.10.5"
  },
  "vscode": {
   "interpreter": {
    "hash": "56d1791ccf3619eb2e96bcb48f34fc78b324d8c8cdfe4f3f151a69e2e95d16f5"
   }
  }
 },
 "nbformat": 4,
 "nbformat_minor": 5
}
